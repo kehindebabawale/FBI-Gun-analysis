{
 "cells": [
  {
   "cell_type": "markdown",
   "metadata": {},
   "source": [
    "\n",
    "\n",
    "# Project: Investigation of FBI GUN-CHECK \n",
    "\n",
    "## Table of Contents\n",
    "<ul>\n",
    "<li><a href=\"#intro\">Introduction</a></li>\n",
    "<li><a href=\"#wrangling\">Data Wrangling</a></li>\n",
    "<li><a href=\"#eda\">Exploratory Data Analysis</a></li>\n",
    "<li><a href=\"#conclusions\">Conclusions</a></li>\n",
    "</ul>"
   ]
  },
  {
   "cell_type": "markdown",
   "metadata": {},
   "source": [
    "INTRODUCTION\n",
    "\n",
    "This project is about the analysis of FBI Gun-check, The Data sources are from FBI's National Instant Criminal Background Check System. The U.S. census data is found in a .csv file that contains several variables at the state level, and the NICS data is found in one sheet of an .xlsx file that contains the number of firearm checks by month, state, and type. we are going to explore the datasets to answer and get insight to the following Question;\n",
    "\n",
    "what is the correlation between state and the gun purchasing order?.\n",
    "what is the overall trending of gun purchase?.\n",
    "what is state has the highest growth in Gun registration?."
   ]
  },
  {
   "cell_type": "code",
   "execution_count": 1,
   "metadata": {},
   "outputs": [],
   "source": [
    "# packages installation and loading of dataset\n",
    "\n",
    "import pandas as pd\n",
    "import numpy as np\n",
    "import matplotlib.pyplot as plt\n",
    "import plotly.express as px\n",
    "\n"
   ]
  },
  {
   "cell_type": "markdown",
   "metadata": {},
   "source": [
    "<a id='wrangling'></a>\n",
    "## Data Wrangling\n"
   ]
  },
  {
   "cell_type": "code",
   "execution_count": null,
   "metadata": {},
   "outputs": [],
   "source": [
    "# Load your data and print out a few lines. Perform operations to inspect data\n",
    "#   types and look for instances of missing or possibly errant data.\n",
    "\n",
    "df_gun = pd.read_excel(r'C:\\Users\\k2k\\Desktop\\udacity alx projects\\project 1\\gun_data.xlsx')\n",
    "df_census = pd.read_csv(r'C:\\Users\\k2k\\Desktop\\udacity alx projects\\project 1\\U.S. Census Data.csv')\n",
    "\n"
   ]
  },
  {
   "cell_type": "code",
   "execution_count": null,
   "metadata": {},
   "outputs": [],
   "source": [
    "#let check the top 5 row of df_gun\n",
    "df_gun.head()"
   ]
  },
  {
   "cell_type": "code",
   "execution_count": null,
   "metadata": {},
   "outputs": [],
   "source": [
    "#let check top 5 row of df_census\n",
    "\n",
    "df_census.head()"
   ]
  },
  {
   "cell_type": "markdown",
   "metadata": {},
   "source": [
    "\n",
    "### Data Cleaning;"
   ]
  },
  {
   "cell_type": "code",
   "execution_count": null,
   "metadata": {},
   "outputs": [],
   "source": [
    "#checking for duplicate in df_gun\n",
    "\n",
    "df_gun.duplicated().sum()"
   ]
  },
  {
   "cell_type": "code",
   "execution_count": null,
   "metadata": {},
   "outputs": [],
   "source": [
    "#checking form missing value\n",
    "df_gun.dropna().head()"
   ]
  },
  {
   "cell_type": "code",
   "execution_count": null,
   "metadata": {},
   "outputs": [],
   "source": [
    "#assigning correct data types\n",
    "df_gun['month']= pd.to_datetime(df_gun['month'])"
   ]
  },
  {
   "cell_type": "code",
   "execution_count": null,
   "metadata": {},
   "outputs": [],
   "source": [
    "df_census.head()"
   ]
  },
  {
   "cell_type": "code",
   "execution_count": null,
   "metadata": {},
   "outputs": [],
   "source": [
    "df_census = df_census[:64]\n",
    "\n",
    "df_census"
   ]
  },
  {
   "cell_type": "code",
   "execution_count": null,
   "metadata": {},
   "outputs": [],
   "source": [
    "df_census.rename(columns=df_census.iloc[0]).drop(df_census.index[0])\n",
    "df_census.head()"
   ]
  },
  {
   "cell_type": "code",
   "execution_count": null,
   "metadata": {},
   "outputs": [],
   "source": [
    "#transposing df_census\n",
    "df_census.set_index('Fact', inplace=True)\n",
    "df_census = df_census.transpose().reset_index()"
   ]
  },
  {
   "cell_type": "code",
   "execution_count": null,
   "metadata": {},
   "outputs": [],
   "source": [
    "df_census.info()"
   ]
  },
  {
   "cell_type": "code",
   "execution_count": null,
   "metadata": {},
   "outputs": [],
   "source": [
    "#dropping the first row (fact_note)\n",
    "df_census = df_census.drop([0])"
   ]
  },
  {
   "cell_type": "code",
   "execution_count": null,
   "metadata": {},
   "outputs": [],
   "source": [
    "#dropping unwanted columns in df_census\n",
    "df_census  = df_census.drop(df_census.iloc[:,65:], axis = 1)"
   ]
  },
  {
   "cell_type": "code",
   "execution_count": null,
   "metadata": {},
   "outputs": [],
   "source": [
    "#checking for duplicate in  df_census\n",
    "\n",
    "df_census.duplicated().sum()"
   ]
  },
  {
   "cell_type": "code",
   "execution_count": null,
   "metadata": {},
   "outputs": [],
   "source": [
    "#checking for missing values in df_census\n",
    "\n",
    "df_census.isnull().sum()"
   ]
  },
  {
   "cell_type": "code",
   "execution_count": null,
   "metadata": {},
   "outputs": [],
   "source": [
    "#removing %,$ and comma from the data set\n",
    "\n",
    "col = df_census.columns\n",
    "\n",
    "df_census[col] = df_census[col].replace({'\\$': '', ',': '','\\%':''}, regex=True)\n",
    "\n"
   ]
  },
  {
   "cell_type": "markdown",
   "metadata": {},
   "source": [
    "<a id='eda'></a>\n",
    "## Exploratory Data Analysis\n",
    "\n",
    "\n",
    "### Research Question 1 (What is the overall gun purchase?)"
   ]
  },
  {
   "cell_type": "code",
   "execution_count": null,
   "metadata": {},
   "outputs": [],
   "source": [
    "#creating a purchase_trend dataframe.\n",
    "\n",
    "purchase_trend = pd.pivot_table(data = df_gun, index = 'month', columns= 'state', values= 'totals')\n",
    "\n",
    "purchase_trend =  purchase_trend.reset_index()\n",
    "\n",
    "purchase_trend['total'] = purchase_trend.iloc[:,1:].sum(axis = 1)\n",
    "\n",
    "purchase_trend"
   ]
  },
  {
   "cell_type": "code",
   "execution_count": null,
   "metadata": {},
   "outputs": [],
   "source": [
    "#plotting total purchase trend line graph\n",
    "\n",
    "plt.figure(figsize=(40,20))\n",
    "\n",
    "\n",
    "# Preparing the data to subplots\n",
    "x = purchase_trend['month']\n",
    "y = purchase_trend['total']\n",
    "\n",
    "# Plot the subplots\n",
    "\n",
    "plt.subplot(2, 2, 1)\n",
    "plt.plot(x, y, 'g')\n",
    "\n",
    "# set chart title\n",
    "plt.title(\"total purchase trend\" , fontsize=20)\n",
    "\n",
    "#set Axis label\n",
    "plt.xlabel(\"Year\", fontsize=20)\n",
    "plt.ylabel(\"total purchase\", fontsize=20)\n",
    "\n",
    "plt.show()\n"
   ]
  },
  {
   "cell_type": "code",
   "execution_count": null,
   "metadata": {},
   "outputs": [],
   "source": [
    "df_gun"
   ]
  },
  {
   "cell_type": "markdown",
   "metadata": {},
   "source": [
    "### Research Question 2 ; Which states have had the highest growth in gun registrations?\n"
   ]
  },
  {
   "cell_type": "code",
   "execution_count": null,
   "metadata": {},
   "outputs": [],
   "source": [
    "#creating a new data set form df_gun \n",
    "\n",
    "\n",
    "df_gun_growth = df_gun.loc[:, ['month', 'state', 'totals']]\n",
    "\n",
    "df_gun_growth.reset_index()"
   ]
  },
  {
   "cell_type": "code",
   "execution_count": null,
   "metadata": {},
   "outputs": [],
   "source": [
    "#extracting year from the month column\n",
    "df_gun_growth['year']= pd.to_datetime(df_gun_growth['month']).dt.strftime('%Y')\n",
    "df_gun_growth['months']= pd.to_datetime(df_gun_growth['month']).dt.strftime('%m')\n",
    "\n",
    "#dropping the month (date column)\n",
    "\n",
    "df_gun_growth = df_gun_growth.drop(columns = 'month')\n"
   ]
  },
  {
   "cell_type": "code",
   "execution_count": null,
   "metadata": {},
   "outputs": [],
   "source": [
    "#extracting data for 1998 and 2017\n",
    "\n",
    "df_gun_1998 = df_gun_growth.query('year == \"1998\"')\n",
    "\n",
    "df_gun_2017 = df_gun_growth.query('year == \"2017\"')\n"
   ]
  },
  {
   "cell_type": "code",
   "execution_count": null,
   "metadata": {},
   "outputs": [],
   "source": [
    "#grouping by df_gun_1998 state\n",
    "\n",
    "\n",
    "df_gun_1998 = df_gun_1998.groupby(['state'])['totals'].sum().reset_index()\n",
    "\n",
    "#rename totals as 2017totals \n",
    "\n",
    "df_gun_1998 = df_gun_1998.rename(columns = {'totals': '1998totals'})\n"
   ]
  },
  {
   "cell_type": "code",
   "execution_count": null,
   "metadata": {},
   "outputs": [],
   "source": [
    "#grouping by df_gun_1998 state\n",
    "\n",
    "\n",
    "df_gun_2017 = df_gun_2017.groupby(['state'])['totals'].sum().reset_index()\n",
    "#rename totals as 2017totals \n",
    "df_gun_2017 = df_gun_2017.rename(columns = {'totals': '2017totals'})\n"
   ]
  },
  {
   "cell_type": "code",
   "execution_count": null,
   "metadata": {},
   "outputs": [],
   "source": [
    "#merging th two dataset\n",
    "\n",
    "df_growth = df_gun_2017.merge(df_gun_1998, how = 'inner', on = 'state')\n",
    "\n",
    "df_growth"
   ]
  },
  {
   "cell_type": "code",
   "execution_count": null,
   "metadata": {},
   "outputs": [],
   "source": [
    "#adding growth rate\n",
    "\n",
    "df_growth['growth_rate'] = (df_growth['2017totals']- df_growth['1998totals']) / df_growth['1998totals']\n",
    "\n",
    "df_growth = df_growth.sort_values(['growth_rate'], ascending = False).reset_index()\n",
    "\n",
    "#removing the umwanted rows\n",
    "df_growth = df_growth.drop(labels = [0,1,2], axis = 0)\n",
    "df_growth= df_growth.drop(columns = {'index'}, axis= 0).reset_index()\n",
    "\n",
    "df_growth"
   ]
  },
  {
   "cell_type": "code",
   "execution_count": null,
   "metadata": {},
   "outputs": [],
   "source": [
    "df_growth.query('state == \"Guam\"')"
   ]
  },
  {
   "cell_type": "code",
   "execution_count": null,
   "metadata": {},
   "outputs": [],
   "source": [
    "\n",
    "plt.figure(figsize=(20,10))\n",
    "def growth_rate():\n",
    "    return (df_growth['2017totals']- df_growth['1998totals']) / df_growth['1998totals']\n",
    "\n",
    "plt.bar(df_growth['state'].head(10), df_growth['growth_rate'].head(10))\n",
    "plt.ylabel(\"% of growth\", fontsize=20)\n",
    "plt.xlabel(\"State\", fontsize=20)\n",
    "# set chart title\n",
    "plt.title(\"Top Ten highest growth in gun registration by state \", fontsize=20)"
   ]
  },
  {
   "cell_type": "markdown",
   "metadata": {},
   "source": [
    " As seen in the chart above, Guam has the highest growth in gun registration follow by kentucy and Massacusetts."
   ]
  },
  {
   "cell_type": "markdown",
   "metadata": {},
   "source": [
    "### Research Question 2 :What census data is most associated with high gun per capital?\n",
    "\n",
    "#### Answer ; \n",
    "\n",
    "The cenusus data  provide data for only 2010 and 2016, so i will extract the data for 2010 and 2016 from df_gun data, then merge with census data using state as the foriegn key to get correlation for the data.\n"
   ]
  },
  {
   "cell_type": "code",
   "execution_count": null,
   "metadata": {},
   "outputs": [],
   "source": [
    "#creating a dfnew_gun\n",
    "df_new_gun= df_gun.loc[:, ['month', 'state', 'totals']]\n",
    "\n",
    "df_new_gun\n",
    "\n"
   ]
  },
  {
   "cell_type": "code",
   "execution_count": null,
   "metadata": {},
   "outputs": [],
   "source": [
    "#extracting year and month from month column\n",
    "\n",
    "df_new_gun['year']= pd.to_datetime(df_new_gun['month']).dt.strftime('%Y')\n",
    "df_new_gun['months']= pd.to_datetime(df_new_gun['month']).dt.strftime('%m')\n",
    "\n",
    "#dropping the month (date column)\n",
    "\n",
    "df_new_gun = df_new_gun.drop(columns = 'month')\n"
   ]
  },
  {
   "cell_type": "code",
   "execution_count": null,
   "metadata": {},
   "outputs": [],
   "source": [
    "#extraction 2010-2016 data\n",
    "\n",
    "\n",
    "df_new_gun = df_new_gun.query('year  == \"2010\"'and 'year == \"2016\"')\n"
   ]
  },
  {
   "cell_type": "code",
   "execution_count": null,
   "metadata": {},
   "outputs": [],
   "source": [
    "#grouping df_new_gun by state\n",
    "df_new_gun = df_new_gun.groupby('state')['totals'].sum().reset_index()\n",
    "df_new_gun.head()"
   ]
  },
  {
   "cell_type": "code",
   "execution_count": null,
   "metadata": {},
   "outputs": [],
   "source": [
    "#extracting census data for 2016 and 2010\n",
    "\n",
    "#renameing the column as state\n",
    "\n",
    "df_census_2016_2010 = df_census.iloc[:,0:4]\n",
    "\n",
    "df_census_2016_2010.rename(columns = {'index':'state','Population estimates, July 1, 2016,  (V2016)' :'population_2016', 'Population estimates base, April 1, 2010,  (V2016)': 'population_2010' , 'Population, percent change - April 1, 2010 (estimates base) to July 1, 2016,  (V2016)': '%population_change2010and2016'}, inplace = True)\n",
    "\n",
    "\n",
    "df_census_2016_2010.head()"
   ]
  },
  {
   "cell_type": "code",
   "execution_count": null,
   "metadata": {},
   "outputs": [],
   "source": [
    "#merging the df_new_gun and df_census\n",
    "\n",
    "df = df_census_2016_2010.merge(df_new_gun, how = 'inner', on = 'state')\n",
    "\n",
    "df.info()"
   ]
  },
  {
   "cell_type": "code",
   "execution_count": null,
   "metadata": {},
   "outputs": [],
   "source": [
    "#changing the datatype to float\n",
    "df['population_2016'] = df['population_2016'].astype(float)\n",
    "df['population_2010'] = df['population_2010'].astype(float)\n",
    "df['%population_change2010and2016'] = df['%population_change2010and2016'].astype(float)\n"
   ]
  },
  {
   "cell_type": "code",
   "execution_count": null,
   "metadata": {},
   "outputs": [],
   "source": [
    "#creating correlation table\n",
    "\n",
    "#df_corr = df.corr()[['totals']][:-1].sort_values(by='totals', ascending = True)\n",
    "df_corr = df.corr()\n",
    "df_corr"
   ]
  },
  {
   "cell_type": "code",
   "execution_count": null,
   "metadata": {},
   "outputs": [],
   "source": [
    "#plotting the correlation \n",
    "\n",
    "hm = px.imshow(df_corr, height = 1000, text_auto=True, aspect=\"auto\")\n",
    "hm.update_layout(title = 'Heatmap of census data correlation with firearm registrations', title_x = 1.0)\n",
    "hm.update_xaxes(side=\"top\")\n",
    "hm.show()"
   ]
  },
  {
   "cell_type": "markdown",
   "metadata": {},
   "source": [
    "<a id='conclusions'></a>\n",
    "## Conclusions\n",
    "\n",
    "> **what is the overall trend in gun purchase?**:\n",
    "  > The result shows that there is increase in gun purchase over time from 1998 to 2017,the trend is seasonal which peak at december.\n",
    "\n",
    "> **what state has the highest growth in gun purchase?**: The result shows that Guam has the highest growth (151.444444%) in Gun registration, the total gun registration increase from  9 in 1998 to 1372 in 2017.\n",
    ">\n",
    "\n",
    "> **What census data is most associated with high gun per capital?**: Both 2010 population and 2016 population census data have positive correlation with the total gun checkedin 2010 and 2016. 2010 population census has 0.605044 which is greater than 0.605044 of 2016 population census.\n",
    "\n",
    "\n",
    "## Limitation\n",
    ">The main limitation is the lack of census data that prevented more detailed analysis: the census data is available only for the period 2010 - 2016. Missing data in the NICS  Gun-check dataset were removed.\n"
   ]
  },
  {
   "cell_type": "code",
   "execution_count": null,
   "metadata": {},
   "outputs": [],
   "source": []
  },
  {
   "cell_type": "code",
   "execution_count": null,
   "metadata": {},
   "outputs": [],
   "source": []
  }
 ],
 "metadata": {
  "kernelspec": {
   "display_name": "Python 3 (ipykernel)",
   "language": "python",
   "name": "python3"
  },
  "language_info": {
   "codemirror_mode": {
    "name": "ipython",
    "version": 3
   },
   "file_extension": ".py",
   "mimetype": "text/x-python",
   "name": "python",
   "nbconvert_exporter": "python",
   "pygments_lexer": "ipython3",
   "version": "3.9.12"
  },
  "vscode": {
   "interpreter": {
    "hash": "5910ce4a4ab28b62499bc89a62ba8cdf5ff6ee4136eafa0d6a6e7cb6fba2b5ab"
   }
  }
 },
 "nbformat": 4,
 "nbformat_minor": 2
}
